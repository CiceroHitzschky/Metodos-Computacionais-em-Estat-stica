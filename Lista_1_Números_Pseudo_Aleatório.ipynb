{
  "nbformat": 4,
  "nbformat_minor": 0,
  "metadata": {
    "colab": {
      "provenance": [],
      "collapsed_sections": [
        "lP6HjuHxz77m",
        "QH6EHadEOgRL",
        "_Bii1eDlB29d",
        "f_MJKUhCPHKH",
        "Q7CxIK7LjRTH",
        "q4VALqsfW2ik",
        "Cte28rvUdsJM",
        "CKistYy6h_z6",
        "Z9eE1rJUiI47",
        "vMH3_jf2lLm5",
        "52YK-fhCjb7A",
        "lh6z-lKzDeVf",
        "KPIw2UrcBBtV",
        "crTgS9W-DeVx",
        "ulb4EObMDeVx",
        "FEqeuh7aDeVy",
        "Ho-TQMVvKqeY",
        "EvErKrZ711Rz",
        "7uBaC57KDMtx",
        "brptesknK4CB",
        "nMTViI6baPqP",
        "mecAc3gCVsmw",
        "C-K37BQBaidI",
        "kkYKY7ogiqkn",
        "QA2TUnYHjF0g",
        "ZdBm6pqajKVZ",
        "a2GRti9Yj-rm",
        "DGNq4Ex0kEp0",
        "G0dolRzKA_Y6",
        "lF352rrHsPDS",
        "1v8PEEnNs1lu",
        "q5NYEKqys-N9",
        "_508KHxMtG2U",
        "Gt7MNHLXL8hQ",
        "KmDsvqf8M0U4",
        "14nL2Oa-OTEO"
      ]
    },
    "kernelspec": {
      "name": "python3",
      "display_name": "Python 3"
    },
    "language_info": {
      "name": "python"
    }
  },
  "cells": [
    {
      "cell_type": "markdown",
      "source": [
        "# Métodos Computacionais em Estatística\n",
        "## Programa de Pós-Graduação em Modelagem e Métodos Quantitativos\n",
        "### Universidade Federal do Ceará\n"
      ],
      "metadata": {
        "id": "lP6HjuHxz77m"
      }
    },
    {
      "cell_type": "code",
      "source": [
        "# Biblitecas utilizadas\n",
        "import pandas as pd\n",
        "import numpy as np\n",
        "import matplotlib.pyplot as plt\n",
        "from numba import jit\n",
        "import scipy.stats as stats"
      ],
      "metadata": {
        "id": "EbJ7K0Sj2k7G"
      },
      "execution_count": 1,
      "outputs": []
    },
    {
      "cell_type": "markdown",
      "source": [
        "# Atividade 1: Implementar um Gerador Linear Congruente (GLC)\n"
      ],
      "metadata": {
        "id": "QH6EHadEOgRL"
      }
    },
    {
      "cell_type": "markdown",
      "source": [
        "## *Descrição:*"
      ],
      "metadata": {
        "id": "_Bii1eDlB29d"
      }
    },
    {
      "cell_type": "markdown",
      "source": [
        "*O GLC é um método clássico para gerar números pseudo-aleatórios baseado na fórmula:\n",
        "$$\n",
        "X_{n+1} = (a \\cdot X_n + c) \\textrm{ mod } m\n",
        "$$\n",
        "em que $X_0$ é a semente inicial, $a$ é o multiplicador, $c$ é o incremento, e $m$ é o módulo.*\n"
      ],
      "metadata": {
        "id": "48s29icqB4o0"
      }
    },
    {
      "cell_type": "markdown",
      "source": [
        "## Tarefas:\n"
      ],
      "metadata": {
        "id": "f_MJKUhCPHKH"
      }
    },
    {
      "cell_type": "markdown",
      "source": [
        "### 1. Implemente o GLC em Python.\n",
        "\n",
        "\n"
      ],
      "metadata": {
        "id": "Q7CxIK7LjRTH"
      }
    },
    {
      "cell_type": "code",
      "execution_count": 2,
      "metadata": {
        "id": "Z7nOOrcSMwc4",
        "colab": {
          "base_uri": "https://localhost:8080/"
        },
        "outputId": "b3a613ca-6182-49f8-f058-c1087b258c3a"
      },
      "outputs": [
        {
          "output_type": "execute_result",
          "data": {
            "text/plain": [
              "array([10,  3,  0,  1,  6])"
            ]
          },
          "metadata": {},
          "execution_count": 2
        }
      ],
      "source": [
        "# função ACL 1\n",
        "\n",
        "def acl1(semente, multiplicador, incremento, modulo, quantidade):\n",
        "  x0 = semente\n",
        "  a = multiplicador\n",
        "  b = incremento\n",
        "  m = modulo\n",
        "  n = quantidade\n",
        "\n",
        "  sequencia = list()\n",
        "  for i in range(quantidade):\n",
        "    x = (a * x0 + b) % m\n",
        "    sequencia.append(x)\n",
        "    x0 = x\n",
        "  return np.array(sequencia)\n",
        "\n",
        "# Output com o exemplo dado em sala\n",
        "acl1(semente = 5, multiplicador = 5, incremento = 1, modulo = 16,quantidade = 5)"
      ]
    },
    {
      "cell_type": "markdown",
      "source": [
        "### 2. Gere 1000 números aleatórios com diferentes valores de a, c, e m.\n",
        "Para isso, precisamos adaptar o código para que saia apenas o termo da sequencia que desejamos"
      ],
      "metadata": {
        "id": "q4VALqsfW2ik"
      }
    },
    {
      "cell_type": "code",
      "source": [
        "# Gerando 1000 amostras\n",
        "acl1(5, 5, 1, 16,1000)"
      ],
      "metadata": {
        "id": "bnOIbnO0dmGM",
        "colab": {
          "base_uri": "https://localhost:8080/"
        },
        "outputId": "a6101c32-8fe3-4e53-deec-ea33d26c4d09"
      },
      "execution_count": 3,
      "outputs": [
        {
          "output_type": "execute_result",
          "data": {
            "text/plain": [
              "array([10,  3,  0,  1,  6, 15, 12, 13,  2, 11,  8,  9, 14,  7,  4,  5, 10,\n",
              "        3,  0,  1,  6, 15, 12, 13,  2, 11,  8,  9, 14,  7,  4,  5, 10,  3,\n",
              "        0,  1,  6, 15, 12, 13,  2, 11,  8,  9, 14,  7,  4,  5, 10,  3,  0,\n",
              "        1,  6, 15, 12, 13,  2, 11,  8,  9, 14,  7,  4,  5, 10,  3,  0,  1,\n",
              "        6, 15, 12, 13,  2, 11,  8,  9, 14,  7,  4,  5, 10,  3,  0,  1,  6,\n",
              "       15, 12, 13,  2, 11,  8,  9, 14,  7,  4,  5, 10,  3,  0,  1,  6, 15,\n",
              "       12, 13,  2, 11,  8,  9, 14,  7,  4,  5, 10,  3,  0,  1,  6, 15, 12,\n",
              "       13,  2, 11,  8,  9, 14,  7,  4,  5, 10,  3,  0,  1,  6, 15, 12, 13,\n",
              "        2, 11,  8,  9, 14,  7,  4,  5, 10,  3,  0,  1,  6, 15, 12, 13,  2,\n",
              "       11,  8,  9, 14,  7,  4,  5, 10,  3,  0,  1,  6, 15, 12, 13,  2, 11,\n",
              "        8,  9, 14,  7,  4,  5, 10,  3,  0,  1,  6, 15, 12, 13,  2, 11,  8,\n",
              "        9, 14,  7,  4,  5, 10,  3,  0,  1,  6, 15, 12, 13,  2, 11,  8,  9,\n",
              "       14,  7,  4,  5, 10,  3,  0,  1,  6, 15, 12, 13,  2, 11,  8,  9, 14,\n",
              "        7,  4,  5, 10,  3,  0,  1,  6, 15, 12, 13,  2, 11,  8,  9, 14,  7,\n",
              "        4,  5, 10,  3,  0,  1,  6, 15, 12, 13,  2, 11,  8,  9, 14,  7,  4,\n",
              "        5, 10,  3,  0,  1,  6, 15, 12, 13,  2, 11,  8,  9, 14,  7,  4,  5,\n",
              "       10,  3,  0,  1,  6, 15, 12, 13,  2, 11,  8,  9, 14,  7,  4,  5, 10,\n",
              "        3,  0,  1,  6, 15, 12, 13,  2, 11,  8,  9, 14,  7,  4,  5, 10,  3,\n",
              "        0,  1,  6, 15, 12, 13,  2, 11,  8,  9, 14,  7,  4,  5, 10,  3,  0,\n",
              "        1,  6, 15, 12, 13,  2, 11,  8,  9, 14,  7,  4,  5, 10,  3,  0,  1,\n",
              "        6, 15, 12, 13,  2, 11,  8,  9, 14,  7,  4,  5, 10,  3,  0,  1,  6,\n",
              "       15, 12, 13,  2, 11,  8,  9, 14,  7,  4,  5, 10,  3,  0,  1,  6, 15,\n",
              "       12, 13,  2, 11,  8,  9, 14,  7,  4,  5, 10,  3,  0,  1,  6, 15, 12,\n",
              "       13,  2, 11,  8,  9, 14,  7,  4,  5, 10,  3,  0,  1,  6, 15, 12, 13,\n",
              "        2, 11,  8,  9, 14,  7,  4,  5, 10,  3,  0,  1,  6, 15, 12, 13,  2,\n",
              "       11,  8,  9, 14,  7,  4,  5, 10,  3,  0,  1,  6, 15, 12, 13,  2, 11,\n",
              "        8,  9, 14,  7,  4,  5, 10,  3,  0,  1,  6, 15, 12, 13,  2, 11,  8,\n",
              "        9, 14,  7,  4,  5, 10,  3,  0,  1,  6, 15, 12, 13,  2, 11,  8,  9,\n",
              "       14,  7,  4,  5, 10,  3,  0,  1,  6, 15, 12, 13,  2, 11,  8,  9, 14,\n",
              "        7,  4,  5, 10,  3,  0,  1,  6, 15, 12, 13,  2, 11,  8,  9, 14,  7,\n",
              "        4,  5, 10,  3,  0,  1,  6, 15, 12, 13,  2, 11,  8,  9, 14,  7,  4,\n",
              "        5, 10,  3,  0,  1,  6, 15, 12, 13,  2, 11,  8,  9, 14,  7,  4,  5,\n",
              "       10,  3,  0,  1,  6, 15, 12, 13,  2, 11,  8,  9, 14,  7,  4,  5, 10,\n",
              "        3,  0,  1,  6, 15, 12, 13,  2, 11,  8,  9, 14,  7,  4,  5, 10,  3,\n",
              "        0,  1,  6, 15, 12, 13,  2, 11,  8,  9, 14,  7,  4,  5, 10,  3,  0,\n",
              "        1,  6, 15, 12, 13,  2, 11,  8,  9, 14,  7,  4,  5, 10,  3,  0,  1,\n",
              "        6, 15, 12, 13,  2, 11,  8,  9, 14,  7,  4,  5, 10,  3,  0,  1,  6,\n",
              "       15, 12, 13,  2, 11,  8,  9, 14,  7,  4,  5, 10,  3,  0,  1,  6, 15,\n",
              "       12, 13,  2, 11,  8,  9, 14,  7,  4,  5, 10,  3,  0,  1,  6, 15, 12,\n",
              "       13,  2, 11,  8,  9, 14,  7,  4,  5, 10,  3,  0,  1,  6, 15, 12, 13,\n",
              "        2, 11,  8,  9, 14,  7,  4,  5, 10,  3,  0,  1,  6, 15, 12, 13,  2,\n",
              "       11,  8,  9, 14,  7,  4,  5, 10,  3,  0,  1,  6, 15, 12, 13,  2, 11,\n",
              "        8,  9, 14,  7,  4,  5, 10,  3,  0,  1,  6, 15, 12, 13,  2, 11,  8,\n",
              "        9, 14,  7,  4,  5, 10,  3,  0,  1,  6, 15, 12, 13,  2, 11,  8,  9,\n",
              "       14,  7,  4,  5, 10,  3,  0,  1,  6, 15, 12, 13,  2, 11,  8,  9, 14,\n",
              "        7,  4,  5, 10,  3,  0,  1,  6, 15, 12, 13,  2, 11,  8,  9, 14,  7,\n",
              "        4,  5, 10,  3,  0,  1,  6, 15, 12, 13,  2, 11,  8,  9, 14,  7,  4,\n",
              "        5, 10,  3,  0,  1,  6, 15, 12, 13,  2, 11,  8,  9, 14,  7,  4,  5,\n",
              "       10,  3,  0,  1,  6, 15, 12, 13,  2, 11,  8,  9, 14,  7,  4,  5, 10,\n",
              "        3,  0,  1,  6, 15, 12, 13,  2, 11,  8,  9, 14,  7,  4,  5, 10,  3,\n",
              "        0,  1,  6, 15, 12, 13,  2, 11,  8,  9, 14,  7,  4,  5, 10,  3,  0,\n",
              "        1,  6, 15, 12, 13,  2, 11,  8,  9, 14,  7,  4,  5, 10,  3,  0,  1,\n",
              "        6, 15, 12, 13,  2, 11,  8,  9, 14,  7,  4,  5, 10,  3,  0,  1,  6,\n",
              "       15, 12, 13,  2, 11,  8,  9, 14,  7,  4,  5, 10,  3,  0,  1,  6, 15,\n",
              "       12, 13,  2, 11,  8,  9, 14,  7,  4,  5, 10,  3,  0,  1,  6, 15, 12,\n",
              "       13,  2, 11,  8,  9, 14,  7,  4,  5, 10,  3,  0,  1,  6, 15, 12, 13,\n",
              "        2, 11,  8,  9, 14,  7,  4,  5, 10,  3,  0,  1,  6, 15, 12, 13,  2,\n",
              "       11,  8,  9, 14,  7,  4,  5, 10,  3,  0,  1,  6, 15, 12, 13,  2, 11,\n",
              "        8,  9, 14,  7,  4,  5, 10,  3,  0,  1,  6, 15, 12, 13])"
            ]
          },
          "metadata": {},
          "execution_count": 3
        }
      ]
    },
    {
      "cell_type": "markdown",
      "source": [],
      "metadata": {
        "id": "UyzwTt3W_EJy"
      }
    },
    {
      "cell_type": "markdown",
      "source": [
        "### 3. Verifique a uniformidade dos números gerados usando um histograma.\n"
      ],
      "metadata": {
        "id": "Cte28rvUdsJM"
      }
    },
    {
      "cell_type": "code",
      "source": [
        "# função ACL 2\n",
        "def acl2(semente, multiplicador, incremento, modulo, quantidade):\n",
        "  x0 = semente\n",
        "  a = multiplicador\n",
        "  b = incremento\n",
        "  m = modulo\n",
        "  n = quantidade\n",
        "\n",
        "  for i in range(quantidade):\n",
        "    x = (a * x0 + b) % m\n",
        "    x0 = x\n",
        "  return x\n",
        "\n",
        "# Armazenando 5000 amostras\n",
        "num_aleatorios = list()\n",
        "for i in range(1,5000):\n",
        "  num_aleatorios.append(acl2(5, 5, 1, 16,i))\n",
        "\n",
        "# # Plotando Histograma\n",
        "plt.hist(num_aleatorios, bins=16, color='skyblue', edgecolor='black')\n",
        "plt.show()"
      ],
      "metadata": {
        "id": "SW6NlKMJTHlp",
        "colab": {
          "base_uri": "https://localhost:8080/",
          "height": 0
        },
        "outputId": "4925490c-8aa8-40aa-a6ce-b4e534e997f4"
      },
      "execution_count": 4,
      "outputs": [
        {
          "output_type": "display_data",
          "data": {
            "text/plain": [
              "<Figure size 640x480 with 1 Axes>"
            ],
            "image/png": "[encoded data removed]"
          },
          "metadata": {}
        }
      ]
    },
    {
      "cell_type": "markdown",
      "source": [
        "**Observação 1:** É importante que a quantidade de bins seja igual ao módulo. Isso será setado automaticamente na classe.\n",
        "**Observação 2:** A função acl1 returna um array com os termos da sequência, enquanto a função acl2 retorna apenas o termo desejado."
      ],
      "metadata": {
        "id": "cYsaZweKhvb0"
      }
    },
    {
      "cell_type": "markdown",
      "source": [
        "### 4. Calcule a média e a variância dos números gerados e compare com os valores teóricos."
      ],
      "metadata": {
        "id": "CKistYy6h_z6"
      }
    },
    {
      "cell_type": "markdown",
      "source": [
        "Comparar com os valores teóricos é verificar se a média e a variância dos números gerados pelo ACL são próximos da média e variância da distribuição uniforme (0,1). Ou seja, verificamos se a média é 0,5 e a variância é 1/12."
      ],
      "metadata": {
        "id": "V3xsc3ILFSnQ"
      }
    },
    {
      "cell_type": "code",
      "source": [
        "# Função acl3\n",
        "@jit(nopython=True)\n",
        "def acl3(semente, multiplicador, incremento, modulo, quantidade):\n",
        "  x0 = semente\n",
        "  a = multiplicador\n",
        "  b = incremento\n",
        "  m = modulo\n",
        "  n = quantidade\n",
        "\n",
        "  for i in range(quantidade):\n",
        "    x = (a * x0 + b) % m\n",
        "    x0 = x\n",
        "  return x / m\n",
        "\n",
        "# amostras\n",
        "sequencia = list()\n",
        "for i in range(1,100):\n",
        "  sequencia.append(acl3(5, 5, 1, 16,i))\n",
        "\n",
        "random_num = np.array(sequencia)\n",
        "\n",
        "media = random_num.mean()\n",
        "variancia = random_num.var()\n",
        "\n",
        "resposta = (f\"Média = {media:.4f} \\t\\t Média Esperada = 0.5 \\n\"\n",
        "            f\"Variância = {variancia:.4f} \\t Variância Esperada = {1 / 12:.4f}\")\n",
        "print(resposta)"
      ],
      "metadata": {
        "id": "x5AQMHkSRs2X",
        "colab": {
          "base_uri": "https://localhost:8080/"
        },
        "outputId": "ebf876b2-a5dd-4f5f-91a4-c892f97dd6fe"
      },
      "execution_count": 5,
      "outputs": [
        {
          "output_type": "stream",
          "name": "stdout",
          "text": [
            "Média = 0.4628 \t\t Média Esperada = 0.5 \n",
            "Variância = 0.0837 \t Variância Esperada = 0.0833\n"
          ]
        }
      ]
    },
    {
      "cell_type": "markdown",
      "source": [
        "### 5. Teste a independência dos números gerados usando o teste de correlação."
      ],
      "metadata": {
        "id": "Z9eE1rJUiI47"
      }
    },
    {
      "cell_type": "code",
      "source": [
        "# Criando Data Frame\n",
        "df = pd.DataFrame({'ACL':num_aleatorios})\n",
        "\n",
        "\n",
        "X = df['ACL']\n",
        "Y = df['ACL'].shift(-1) # Faz uma pequena translação\n",
        "\n",
        "correlacao = X.corr(Y)\n",
        "\n",
        "print(f\"A correção entre termos consecutivos é: {correlacao:.4f}\")\n"
      ],
      "metadata": {
        "id": "hYKnAlEdRtQ-",
        "colab": {
          "base_uri": "https://localhost:8080/"
        },
        "outputId": "a4b49c28-35d8-4121-f060-00b1b22b10e9"
      },
      "execution_count": 6,
      "outputs": [
        {
          "output_type": "stream",
          "name": "stdout",
          "text": [
            "A correção entre termos consecutivos é: 0.2711\n"
          ]
        }
      ]
    },
    {
      "cell_type": "markdown",
      "source": [
        "Correlação é próxima de zero, logo os números são indepedentes."
      ],
      "metadata": {
        "id": "8Siq7dPdk-vu"
      }
    },
    {
      "cell_type": "markdown",
      "source": [
        "### 6. Apresente dois conjuntos distintos de parâmetros, um que trás boas propriedades e outro que não."
      ],
      "metadata": {
        "id": "vMH3_jf2lLm5"
      }
    },
    {
      "cell_type": "code",
      "source": [
        "# Conjunto de Parametros RUINS\n",
        "\n",
        "x0 = 5\n",
        "a = 8\n",
        "b = 0\n",
        "m = 64\n",
        "n = 10\n",
        "\n",
        "print(f\"10 primeiros termos: {acl1(x0, a, b, m, n)}\")\n",
        "\n",
        "# Armazenando 1000 amostras\n",
        "num_aleatorios = list()\n",
        "for i in range(1,900):\n",
        "  num_aleatorios.append(acl3(x0, a, b, m,i))\n",
        "\n",
        "\n",
        "# Plotando Histograma\n",
        "plt.hist(num_aleatorios, bins=m, color='skyblue', edgecolor='black')\n",
        "plt.show()\n",
        "\n",
        "random_num = np.array(num_aleatorios)\n",
        "\n",
        "media = random_num.mean()\n",
        "variancia = random_num.var()\n",
        "\n",
        "resposta = f\"Para esses parâmetros ruins a média é {media:.4f} e a variância é {variancia:.4f}\"\n",
        "print(resposta)"
      ],
      "metadata": {
        "colab": {
          "base_uri": "https://localhost:8080/",
          "height": 465
        },
        "id": "_ebkWBPWlMeH",
        "outputId": "17300d07-1cd1-4363-9258-170531c46e29"
      },
      "execution_count": 7,
      "outputs": [
        {
          "output_type": "stream",
          "name": "stdout",
          "text": [
            "10 primeiros termos: [40  0  0  0  0  0  0  0  0  0]\n"
          ]
        },
        {
          "output_type": "display_data",
          "data": {
            "text/plain": [
              "<Figure size 640x480 with 1 Axes>"
            ],
            "image/png": "[encoded data removed]"
          },
          "metadata": {}
        },
        {
          "output_type": "stream",
          "name": "stdout",
          "text": [
            "Para esses parâmetros ruins a média é 0.0007 e a variância é 0.0004\n"
          ]
        }
      ]
    },
    {
      "cell_type": "code",
      "source": [
        "# Conjunto de Parametros BONS\n",
        "\n",
        "x0 =5\n",
        "a = 5\n",
        "b = 0\n",
        "m = np.power(2,23)\n",
        "n = 10\n",
        "\n",
        "print(f\"10 primeiros termos: {acl1(x0, a, b, m, n)}\")\n",
        "\n",
        "# Armazenando 1000 amostras\n",
        "num_aleatorios = np.array([acl3(x0, a, b, m,i) for i in range(1,900)])\n",
        "\n",
        "# Plotando Histograma\n",
        "\n",
        "plt.hist(num_aleatorios, bins=10, color='gold', edgecolor='black')\n",
        "plt.show()\n",
        "\n",
        "# Calculo de correlação e média\n",
        "df = pd.DataFrame({'ACL':num_aleatorios})\n",
        "X = df['ACL']\n",
        "Y = df['ACL'].shift(-1)\n",
        "correlacao = X.corr(Y)\n",
        "\n",
        "media = num_aleatorios.mean()\n",
        "\n",
        "resposta = f\"Para esses parâmetros bons a média é {media:.4f} e a correlação é {correlacao:.4f}\"\n",
        "print(resposta)"
      ],
      "metadata": {
        "colab": {
          "base_uri": "https://localhost:8080/",
          "height": 482
        },
        "id": "BgguCpyaluru",
        "outputId": "08e810a7-0683-4d35-a048-5f7252cbeb40"
      },
      "execution_count": 8,
      "outputs": [
        {
          "output_type": "stream",
          "name": "stdout",
          "text": [
            "10 primeiros termos: [     25     125     625    3125   15625   78125  390625 1953125 1377017\n",
            " 6885085]\n"
          ]
        },
        {
          "output_type": "display_data",
          "data": {
            "text/plain": [
              "<Figure size 640x480 with 1 Axes>"
            ],
            "image/png": "[encoded data removed]"
          },
          "metadata": {}
        },
        {
          "output_type": "stream",
          "name": "stdout",
          "text": [
            "Para esses parâmetros bons a média é 0.4967 e a correlação é 0.2086\n"
          ]
        }
      ]
    },
    {
      "cell_type": "markdown",
      "source": [
        "# Classe\n",
        "\n",
        "\n"
      ],
      "metadata": {
        "id": "52YK-fhCjb7A"
      }
    },
    {
      "cell_type": "markdown",
      "source": [
        "As tarefas da atividade 1 podem ser \"compiladas\" na biblioteca a seguir que permite geramos sequencias, termos, testar uniformidade e verificar correlação de forma mais simples."
      ],
      "metadata": {
        "id": "I-EH1HUj0Tw5"
      }
    },
    {
      "cell_type": "code",
      "source": [
        "class Acl():\n",
        "  def __init__(self, x0, a, b, m):\n",
        "    self.x0 = x0\n",
        "    self.SEMENTE = x0\n",
        "    self.a = a\n",
        "    self.b = b\n",
        "    self.m = m\n",
        "    self.sequencia = list()\n",
        "    self.sequenciazeroum = list()\n",
        "\n",
        "  # retorna a lista dos n primeiros termos da sequeência\n",
        "  def seq(self,termo):\n",
        "    for i in range(termo):\n",
        "      x = (self.a * self.x0 + self.b) % self.m\n",
        "      self.sequencia.append(x)\n",
        "      self.x0 = x\n",
        "    return np.array(self.sequencia)\n",
        "\n",
        "  # Retorna o enésimo termo da sequência\n",
        "  # @jit(nopython=True)\n",
        "  def termo(self,termo):\n",
        "    for i in range(termo):\n",
        "      x = (self.a * self.x0 + self.b) % self.m\n",
        "      self.x0 = x\n",
        "      return x\n",
        "\n",
        "  # Retorna o enésimo termo da sequência Padronizado\n",
        "  # @jit(nopython=True)\n",
        "  def termozeroum(self,termo):\n",
        "    for i in range(termo):\n",
        "      x = (self.a * self.x0 + self.b) % self.m\n",
        "      self.x0 = x\n",
        "      self.sequenciazeroum.append(x / self.m)\n",
        "      return x / self.m\n",
        "\n",
        "  # Cria lista com a quantidade desejada de termos\n",
        "  def random_lista(self, quantidade):\n",
        "    num_aleatorios = list()\n",
        "    for i in range(1,quantidade):\n",
        "      num_aleatorios.append(self.enesimo(i))\n",
        "    return num_aleatorios\n",
        "\n",
        "  # Verifica uniformidade via Histograma\n",
        "  def uniformidade(self, amostra = 1000, partes = 10):\n",
        "    self.seq(amostra)\n",
        "    # self.sequencia = np.array(self.sequencia)\n",
        "    plt.title(\"Histograma de Amostras\")\n",
        "    plt.hist(self.sequencia, bins=partes, color='skyblue', edgecolor='black')\n",
        "    plt.show()\n",
        "\n",
        "  def independencia(self, quantidade):\n",
        "    self.seq(quantidade)\n",
        "    # Criando df\n",
        "    df = pd.DataFrame({'ACL':self.sequencia})\n",
        "\n",
        "    # Calculando correção\n",
        "    X = df['ACL']\n",
        "    Y = df['ACL'].shift(-1)\n",
        "    correlacao = X.corr(Y)\n",
        "    if correlacao >= 0 or correlacao < 0:\n",
        "      print(f\"A correção entre termos consecutivos é:\",end=\"\")\n",
        "      return correlacao\n",
        "    else:\n",
        "      print(\"\\033[31mNão foi possível calcular a correlação!! Verifique se seu gerador está com parâmetros adequados!\")"
      ],
      "metadata": {
        "id": "5ceSO_vlmYhl"
      },
      "execution_count": 9,
      "outputs": []
    },
    {
      "cell_type": "markdown",
      "source": [
        "A seguir estão os mesmos exemplos apresentados antes com um bom gerador e um gerador ruim."
      ],
      "metadata": {
        "id": "WhEaGK1g0SyC"
      }
    },
    {
      "cell_type": "code",
      "source": [
        "# Gerador bom\n",
        "geradorbom = Acl(x0 = 5, a = 5, b = 0, m = 2 ** 23) # Inicializa a classe\n",
        "\n",
        "print(geradorbom.seq(1000)) # imprime a sequência até o milésimo termo\n",
        "geradorbom.uniformidade(10000,16)# Cria um histograma para verificar uniformidade\n",
        "geradorbom.independencia(1000) # Calcula a correlação"
      ],
      "metadata": {
        "id": "CWu9EghI7gwo",
        "colab": {
          "base_uri": "https://localhost:8080/",
          "height": 0
        },
        "outputId": "83f0523a-9223-49a0-d7a3-e30ea99f2e1a"
      },
      "execution_count": 10,
      "outputs": [
        {
          "output_type": "stream",
          "name": "stdout",
          "text": [
            "[     25     125     625    3125   15625   78125  390625 1953125 1377017\n",
            " 6885085  870993 4354965 4997609 8210829 7499713 3944133 2943449 6328637\n",
            " 6477361 7220981 2550473 4363757 5041569   42021  210105 1050525 5252625\n",
            " 1097301 5486505 2266701 2944897 6335877 6513561 7401981 3455473  500149\n",
            " 2500745 4115117 3798369 2214629 2684537 5034077    4561   22805  114025\n",
            "  570125 2850625 5864517 4156761 4006589 3255729 7890037 5895753 4312941\n",
            " 4787489 7160229 2246713 2844957 5836177 4015061 3298089 8101837 6954753\n",
            " 1219333 6096665 5317501 1421681 7108405 1987593 1549357 7746785 5179493\n",
            "  731641 3658205 1513809 7569045 4290793 4676749 6606529 7866821 5779673\n",
            " 3732541 1885489 1038837 5194185  805101 4025505 3350309 8362937 8260253\n",
            " 7746833 5179733  732841 3664205 1543809 7719045 5040793   38141  190705\n",
            "  953525 4767625 7060909 1750113  361957 1809785  660317 3301585 8119317\n",
            " 7042153 1656333 8281665 7853893 5715033 3409341  269489 1347445 6737225\n",
            "  131693  658465 3292325 8073017 6810653  498833 2494165 4082217 3633869\n",
            " 1392129 6960645 1248793 6243965 6054001 5104181  355081 1775405  488417\n",
            " 2442085 3821817 2331869 3270737 7965077 6270953 6188941 5778881 3728581\n",
            " 1865689  939837 4699185 6718709   39113  195565  977825 4889125 7668409\n",
            " 4787613 7160849 2249813 2860457 5913677 4402561 5235589 1012121 5060605\n",
            "  137201  686005 3430025  372909 1864545  934117 4670585 6575709 7712721\n",
            " 5009173 8268649 7788813 5389633 1782341  523097 2615485 4688817 6666869\n",
            " 8168521 7288173 2886433 6043557 5051961   93981  469905 2349525 3359017\n",
            "   17869   89345  446725 2233625 2779517 5508977 2379061 3506697  756269\n",
            " 3781345 2129509 2258937 2906077 6141777 5543061 2549481 4358797 5016769\n",
            " 8306629 7978713 6339133 6529841 7483381 3862473 2535149 4287137 4658469\n",
            " 6515129 7409821 3494673  696149 3480745  626509 3132545 7274117 2816153\n",
            " 5692157 3294961 8086197 6876553  828333 4141665 3931109 2878329 6003037\n",
            " 4849361 7469589 3793513 2190349 2563137 4427077 5358169 1625021 8125105\n",
            " 7071093 1801033  616557 3082785 7025317 1572153 7860765 5749393 3581141\n",
            " 1128489 5642445 3046401 6843397  662553 3312765 8175217 7321653 3053833\n",
            " 6880557  848353 4241765 4431609 5380829 1738321  302997 1514985 7574925\n",
            " 4320193 4823749 7341529 3153213 7377457 3332853 8275657 7823853 5564833\n",
            " 2658341 4903097 7738269 5136913  518741 2593705 4579917 6122369 5446021\n",
            " 2064281 1932797 1275377 6376885 6718601   38573  192865  964325 4821625\n",
            " 7330909 3100113 7111957 2005353 1638157 8190785 7399493 3443033  437949\n",
            " 2189745 2560117 4411977 5282669 1247521 6237605 6022201 4945181 7948689\n",
            " 6189013 5779241 3730381 1874689  984837 4924185 7843709 5664113 3154741\n",
            " 7385097 3371053   78049  390245 1951225 1367517 6837585  633493 3167465\n",
            " 7448717 3689153 1668549 8342745 8159293 7242033 2655733 4890057 7673069\n",
            " 4810913 7277349 2832313 5772957 3698961 1717589  199337  996685 4983425\n",
            " 8139909 7145113 2171133 2467057 3946677 2956169 6392237 6795361  422373\n",
            " 2111865 2170717 2464977 3936277 2904169 6132237 5495361 2310981 3166297\n",
            " 7442877 3659953 1522549 7612745 4509293 5769249 3680421 1624889 8124445\n",
            " 7067793 1784533  534057 2670285 4962817 8036869 6629913 7983741 6364273\n",
            " 6655541 8111881 7004973 1470433 7352165 3206393 7643357 4662353 6534549\n",
            " 7506921 3980173 3123649 7229637 2593753 4580157 6123569 5452021 2094281\n",
            " 2082797 2025377 1738277  302777 1513885 7569425 4292693 4686249 6654029\n",
            " 8104321 6967173 1281433 6407165 6870001  795573 3977865 3112109 7171937\n",
            " 2305253 3137657 7299677 2943953 6331157 6489961 7283981 2865473 5938757\n",
            " 4527961 5862589 4147121 3958389 3014729 6685037 8259361 7742373 5157433\n",
            "  621341 3106705 7144917 2170153 2462157 3922177 2833669 5779737 3732861\n",
            " 1887089 1046837 5234185 1005101 5025505 8350309 8197113 7431133 3601233\n",
            " 1228949 6144745 5557901 2623681 4729797 6871769  804413 4022065 3333109\n",
            " 8276937 7830253 5596833 2818341 5703097 3349661 8359697 8244053 7665833\n",
            " 4774733 7096449 1927813 1250457 6252285 6095601 5312181 1395081 6975405\n",
            " 1322593 6612965 7899001 5940573 4537041 5907989 4374121 5093389  301121\n",
            " 1505605 7528025 4085693 3651249 1479029 7395145 3421293  329249 1646245\n",
            " 8231225 7601693 4454033 5492949 2298921 3105997 7141377 2152453 2373657\n",
            " 3479677  621169 3105845 7140617 2148653 2354657 3384677  146169  730845\n",
            " 3654225 1493909 7469545 3793293 2189249 2557637 4399577 5220669  937521\n",
            " 4687605 6660809 8138221 7136673 2128933 2256057 2891677 6069777 5183061\n",
            "  749481 3747405 1959809 1410437 7052185 1706493  143857  719285 3596425\n",
            " 1204909 6024545 4956901 8007289 6482013 7244241 2666773 4945257 7949069\n",
            " 6190913 5788741 3777881 2112189 2172337 2473077 3976777 3106669 7144737\n",
            " 2169253 2457657 3899677 2721169 5217237  920361 4601805 6231809 5993221\n",
            " 4800281 7224189 2566513 4443957 5442569 2047021 1846497  843877 4219385\n",
            " 4319709 4821329 7329429 3092713 7074957 1820353  713157 3565785 1051709\n",
            " 5258545 1126901 5634505 3006701 6644897 8058661 6738873  139933  699665\n",
            " 3498325  714409 3572045 1083009 5415045 1909401 1158397 5791985 3794101\n",
            " 2193289 2577837 4500577 5725669 3462521  535389 2676945 4996117 8203369\n",
            " 7462413 3757633 2010949 1666137 8330685 8098993 6940533 1148233 5741165\n",
            " 3540001  922789 4613945 6292509 6296721 6317781 6423081 6949581 1193473\n",
            " 5967365 4671001 6577789 7723121 5061173  140041  700205 3501025  727909\n",
            " 3639545 1420509 7102545 1958293 1402857 7014285 1516993 7584965 4370393\n",
            " 5074749  207921 1039605 5198025  824301 4121505 3830309 2374329 3483037\n",
            "  637969 3189845 7560617 4248653 4466049 5553029 2599321 4607997 6262769\n",
            " 6148021 5574281 2705581 5139297  530661 2653305 4877917 7612369 4507413\n",
            " 5759849 3633421 1389889 6949445 1192793 5963965 4654001 6492789 7298121\n",
            " 2936173 6292257 6295461 6311481 6391581 6792081  405973 2029865 1760717\n",
            "  414977 2074885 1985817 1540477 7702385 4957493 8010249 6496813 7318241\n",
            " 3036773 6795257  421853 2109265 2157717 2399977 3611277 1279169 6395845\n",
            " 6813401  512573 2562865 4425717 5351369 1591021 7955105 6221093 5939641\n",
            " 4532381 5884689 4257621 4510889 5777229 3720321 1824389  733337 3666685\n",
            " 1556209 7781045 5350793 1588141 7940705 6149093 5579641 2732381 5273297\n",
            " 1200661 6003305 4850701 7476289 3827013 2357849 3400637  225969 1129845\n",
            " 5649225 3080301 7012897 1510053 7550265 4196893 4207249 4259029 4517929\n",
            " 5812429 3896321 2704389 5133337  500861 2504305 4132917 3887369 2659629\n",
            " 4909537 7770469 5297913 1323741 6618705 7927701 6084073 5254541 1106881\n",
            " 5534405 2506201 4142397 3934769 2896629 6094537 5306861 1368481 6842405\n",
            "  657593 3287965 8051217 6701653 8342441 8157773 7234433 2617733 4700057\n",
            " 6723069   60913  304565 1522825 7614125 4516193 5803749 3852921 2487389\n",
            " 4048337 3464469  545129 2725645 5239617 1032261 5161305  640701 3203505\n",
            " 7628917 4590153 6173549 5701921 3343781 8330297 8097053 6930833 1099733\n",
            " 5498665 2327501 3248897 7855877 5724953 3458941  517489 2587445 4548617\n",
            " 5965869 4663521 6540389 7536121 4126173 3853649 2491029 4066537 3555469\n",
            " 1000129 5000645 8226009 7575613 4323633 4840949 7427529 3583213 1138849\n",
            " 5694245 3305401 8138397 7137553 2133333 2278057 3001677 6619777 7933061\n",
            " 6110873 5388541 1776881  495797 2478985 4006317 3254369 7883237 5861753\n",
            " 4142941 3937489 2910229 6162537 5646861 3068481 6953797 1214553 6072765\n",
            " 5198001  824181 4120905 3827309 2359329 3408037  262969 1314845 6574225\n",
            " 7705301 4972073 8083149 6861313  752133 3760665 2026109 1741937  321077\n",
            " 1605385 8026925 6580193 7735141 5121273  440541 2202705 2624917 4735977\n",
            " 6902669  958913 4794565 7195609 2423613 3729457 1870069  961737 4808685\n",
            " 7266209 2776613 5494457 2306461 3143697 7329877 3094953 7086157 1876353\n",
            "  993157 4965785 8051709 6704113 8354741 8219273 7541933 4155233 3998949\n",
            " 3217529 7699037 4940753 7926549 6078313 5225741  962881 4814405 7294809\n",
            " 2919613 6209457 5881461 4241481 4430189 5373729 1702821  125497  627485\n",
            " 3137425 7298517 2938153 6302157 6344961 6558981 7629081 4590973 6177649\n",
            " 5722421 3446281  454189 2270945 2966117 6441977 7044061 1665873 8329365\n",
            " 8092393 6907533  983233 4916165 7803609 5463613 2152241 2372597 3474377\n",
            "  594669 2973345 6478117 7224761 2569373 4458257 5514069 2404521 3633997\n",
            " 1392769 6963845 1264793 6323965 6454001 7104181 1966473 1443757 7218785\n",
            " 2539493]\n"
          ]
        },
        {
          "output_type": "display_data",
          "data": {
            "text/plain": [
              "<Figure size 640x480 with 1 Axes>"
            ],
            "image/png": "[encoded data removed]"
          },
          "metadata": {}
        },
        {
          "output_type": "stream",
          "name": "stdout",
          "text": [
            "A correção entre termos consecutivos é:"
          ]
        },
        {
          "output_type": "execute_result",
          "data": {
            "text/plain": [
              "0.21438727787704687"
            ]
          },
          "metadata": {},
          "execution_count": 10
        }
      ]
    },
    {
      "cell_type": "code",
      "source": [
        "# Gerador Ruim\n",
        "geradorRuim = Acl(x0 = 5, a = 8, b = 0, m = 2 ** 4) # Inicializa a classe\n",
        "\n",
        "print(geradorRuim.seq(1000)) # imprime a sequência até o milésimo termo\n",
        "geradorRuim.uniformidade(10000,16)# Cria um histograma para verificar uniformidade\n",
        "geradorRuim.independencia(1000) # Calcula a correlação\n"
      ],
      "metadata": {
        "id": "1kFRCX4RYe9U",
        "colab": {
          "base_uri": "https://localhost:8080/",
          "height": 0
        },
        "outputId": "fafa7b7b-83df-4bc6-b55e-0e1bb14b446c"
      },
      "execution_count": 11,
      "outputs": [
        {
          "output_type": "stream",
          "name": "stdout",
          "text": [
            "[8 0 0 0 0 0 0 0 0 0 0 0 0 0 0 0 0 0 0 0 0 0 0 0 0 0 0 0 0 0 0 0 0 0 0 0 0\n",
            " 0 0 0 0 0 0 0 0 0 0 0 0 0 0 0 0 0 0 0 0 0 0 0 0 0 0 0 0 0 0 0 0 0 0 0 0 0\n",
            " 0 0 0 0 0 0 0 0 0 0 0 0 0 0 0 0 0 0 0 0 0 0 0 0 0 0 0 0 0 0 0 0 0 0 0 0 0\n",
            " 0 0 0 0 0 0 0 0 0 0 0 0 0 0 0 0 0 0 0 0 0 0 0 0 0 0 0 0 0 0 0 0 0 0 0 0 0\n",
            " 0 0 0 0 0 0 0 0 0 0 0 0 0 0 0 0 0 0 0 0 0 0 0 0 0 0 0 0 0 0 0 0 0 0 0 0 0\n",
            " 0 0 0 0 0 0 0 0 0 0 0 0 0 0 0 0 0 0 0 0 0 0 0 0 0 0 0 0 0 0 0 0 0 0 0 0 0\n",
            " 0 0 0 0 0 0 0 0 0 0 0 0 0 0 0 0 0 0 0 0 0 0 0 0 0 0 0 0 0 0 0 0 0 0 0 0 0\n",
            " 0 0 0 0 0 0 0 0 0 0 0 0 0 0 0 0 0 0 0 0 0 0 0 0 0 0 0 0 0 0 0 0 0 0 0 0 0\n",
            " 0 0 0 0 0 0 0 0 0 0 0 0 0 0 0 0 0 0 0 0 0 0 0 0 0 0 0 0 0 0 0 0 0 0 0 0 0\n",
            " 0 0 0 0 0 0 0 0 0 0 0 0 0 0 0 0 0 0 0 0 0 0 0 0 0 0 0 0 0 0 0 0 0 0 0 0 0\n",
            " 0 0 0 0 0 0 0 0 0 0 0 0 0 0 0 0 0 0 0 0 0 0 0 0 0 0 0 0 0 0 0 0 0 0 0 0 0\n",
            " 0 0 0 0 0 0 0 0 0 0 0 0 0 0 0 0 0 0 0 0 0 0 0 0 0 0 0 0 0 0 0 0 0 0 0 0 0\n",
            " 0 0 0 0 0 0 0 0 0 0 0 0 0 0 0 0 0 0 0 0 0 0 0 0 0 0 0 0 0 0 0 0 0 0 0 0 0\n",
            " 0 0 0 0 0 0 0 0 0 0 0 0 0 0 0 0 0 0 0 0 0 0 0 0 0 0 0 0 0 0 0 0 0 0 0 0 0\n",
            " 0 0 0 0 0 0 0 0 0 0 0 0 0 0 0 0 0 0 0 0 0 0 0 0 0 0 0 0 0 0 0 0 0 0 0 0 0\n",
            " 0 0 0 0 0 0 0 0 0 0 0 0 0 0 0 0 0 0 0 0 0 0 0 0 0 0 0 0 0 0 0 0 0 0 0 0 0\n",
            " 0 0 0 0 0 0 0 0 0 0 0 0 0 0 0 0 0 0 0 0 0 0 0 0 0 0 0 0 0 0 0 0 0 0 0 0 0\n",
            " 0 0 0 0 0 0 0 0 0 0 0 0 0 0 0 0 0 0 0 0 0 0 0 0 0 0 0 0 0 0 0 0 0 0 0 0 0\n",
            " 0 0 0 0 0 0 0 0 0 0 0 0 0 0 0 0 0 0 0 0 0 0 0 0 0 0 0 0 0 0 0 0 0 0 0 0 0\n",
            " 0 0 0 0 0 0 0 0 0 0 0 0 0 0 0 0 0 0 0 0 0 0 0 0 0 0 0 0 0 0 0 0 0 0 0 0 0\n",
            " 0 0 0 0 0 0 0 0 0 0 0 0 0 0 0 0 0 0 0 0 0 0 0 0 0 0 0 0 0 0 0 0 0 0 0 0 0\n",
            " 0 0 0 0 0 0 0 0 0 0 0 0 0 0 0 0 0 0 0 0 0 0 0 0 0 0 0 0 0 0 0 0 0 0 0 0 0\n",
            " 0 0 0 0 0 0 0 0 0 0 0 0 0 0 0 0 0 0 0 0 0 0 0 0 0 0 0 0 0 0 0 0 0 0 0 0 0\n",
            " 0 0 0 0 0 0 0 0 0 0 0 0 0 0 0 0 0 0 0 0 0 0 0 0 0 0 0 0 0 0 0 0 0 0 0 0 0\n",
            " 0 0 0 0 0 0 0 0 0 0 0 0 0 0 0 0 0 0 0 0 0 0 0 0 0 0 0 0 0 0 0 0 0 0 0 0 0\n",
            " 0 0 0 0 0 0 0 0 0 0 0 0 0 0 0 0 0 0 0 0 0 0 0 0 0 0 0 0 0 0 0 0 0 0 0 0 0\n",
            " 0 0 0 0 0 0 0 0 0 0 0 0 0 0 0 0 0 0 0 0 0 0 0 0 0 0 0 0 0 0 0 0 0 0 0 0 0\n",
            " 0]\n"
          ]
        },
        {
          "output_type": "display_data",
          "data": {
            "text/plain": [
              "<Figure size 640x480 with 1 Axes>"
            ],
            "image/png": "[encoded data removed]"
          },
          "metadata": {}
        },
        {
          "output_type": "stream",
          "name": "stdout",
          "text": [
            "\u001b[31mNão foi possível calcular a correlação!! Verifique se seu gerador está com parâmetros adequados!\n"
          ]
        },
        {
          "output_type": "stream",
          "name": "stderr",
          "text": [
            "/usr/local/lib/python3.10/dist-packages/numpy/lib/function_base.py:2897: RuntimeWarning: invalid value encountered in divide\n",
            "  c /= stddev[:, None]\n",
            "/usr/local/lib/python3.10/dist-packages/numpy/lib/function_base.py:2898: RuntimeWarning: invalid value encountered in divide\n",
            "  c /= stddev[None, :]\n"
          ]
        }
      ]
    },
    {
      "cell_type": "markdown",
      "source": [
        "---"
      ],
      "metadata": {
        "id": "oKdNKxX_CwBL"
      }
    },
    {
      "cell_type": "markdown",
      "source": [
        "# Atividade 2: Implementar um Gerador de Tausworthe\n",
        "\n"
      ],
      "metadata": {
        "id": "lh6z-lKzDeVf"
      }
    },
    {
      "cell_type": "markdown",
      "source": [
        "## **Descrição:**\n",
        "\n"
      ],
      "metadata": {
        "id": "KPIw2UrcBBtV"
      }
    },
    {
      "cell_type": "markdown",
      "source": [
        "*Os geradores Tausworthe operam diretamente sobre\n",
        "os bits.\n",
        "Uma sequência de dígitos binários é definida pela recorrência:\n",
        "$$\n",
        "b_i = (c_1b_{i−1} + c_2b_{i−2} + \\cdots + c_qb_{i−q}) \\ (\\ mod \\ 2\\ ),\n",
        "$$\n",
        "em que $c_1,...,c_q$ são constantes binárias.*\n",
        "\n",
        "*Neste caso, um ciclo é definido como uma sequência\n",
        "de valores binários que se repetem continuamente.\n",
        "Portanto, como os q bits anteriores são utilizados, o\n",
        "período pode chegar a $2^q − 1$ (uma sequência de zeros\n",
        "é excluída, pois gera outra sequência de zeros).*\n",
        "\n",
        "*Praticamente todos os geradores Tausworthe propostos são da forma\n",
        "$$\n",
        "b_i = (b_{i−r} + b_{i−q})\\  (\\ mod 2\\ ),\n",
        "$$\n",
        "para inteiros $r$ e $q$ satisfazendo $0 < r < q$.*\n",
        "\n",
        "- Note que a soma de variáveis binária módulo 2 é\n",
        "o mesmo que a operação “ou exclusivo”, ou seja,\n",
        "$b_i = 0$ se $b_{i−r} = b_{i−q}$, e $b_i = 1$ se $b_{i−r} \\neq b_{i−q}$.\n",
        "- Exemplo:\n",
        "$r = 3, q = 5, b_1 = b_2 = \\cdot = b_5 = 1.$\n",
        "\n",
        "Assim, para $i ≥ 6, bi$ é o ou exclusivo\n",
        "de $b_{i−3}$ e $b_{i−5}$.\n",
        "Os primeiros $b_i’s$ serão\n",
        "$$\n",
        "1111100011011101010000100101100-111110..\n",
        "$$\n",
        "\n",
        "Note a repetição após 31 bits.\n",
        "\n",
        "**Observações**\n",
        "- Para gerar números entre 0 e 1, podemos particionar a sequência em grupos de $w$ bits, e dividir por $2^w$ cada número representado por um grupo de bits.\n",
        "- Geradores Tausworthe oferecem algumas vantagens\n",
        "potenciais com relação aos Congruente Lineares.\n",
        "  - São independentes do computador utilizado (tamanho da word).\n",
        "  - Oferecem períodos de qualquer tamanho.\n",
        "  - Porém, testes empíricos da qualidade estatística dos número gerados podem ser inconclusivos.\n",
        "\n",
        "fonte: [Geradores Tausworthe](http://www.univasf.edu.br/~criston.souza/simulacao/arquivos/6-Numeros_aleatorios.pdf)"
      ],
      "metadata": {
        "id": "6cYflzmdBIz-"
      }
    },
    {
      "cell_type": "markdown",
      "source": [
        "## Tarefas:\n"
      ],
      "metadata": {
        "id": "crTgS9W-DeVx"
      }
    },
    {
      "cell_type": "markdown",
      "source": [
        "### 1.Implemente o algoritmo de Tausworthe em Python."
      ],
      "metadata": {
        "id": "ulb4EObMDeVx"
      }
    },
    {
      "cell_type": "code",
      "execution_count": 12,
      "metadata": {
        "colab": {
          "base_uri": "https://localhost:8080/"
        },
        "outputId": "fd8617e6-7500-45f5-c15c-295bcc5a00d3",
        "id": "PeT776OgDeVy"
      },
      "outputs": [
        {
          "output_type": "execute_result",
          "data": {
            "text/plain": [
              "array([0, 0, 0, 1, 1, 0, 1, 1, 1, 0, 1, 0, 1, 0, 0, 0, 0, 1, 0, 0, 1, 0,\n",
              "       1, 1, 0, 0, 1, 1, 1, 1, 1, 0, 0, 0])"
            ]
          },
          "metadata": {},
          "execution_count": 12
        }
      ],
      "source": [
        "# Função Geradora Algoritmo Tausworthe (gat)\n",
        "\n",
        "def gat(r,q,n):\n",
        "  b = np.ones(n+2, dtype=int)\n",
        "  for i in range(n+2):\n",
        "    b[i] =  (b[i - r] + b[i - q]) % 2\n",
        "  return b\n",
        "\n",
        "gat(3, 5, 32)"
      ]
    },
    {
      "cell_type": "markdown",
      "source": [
        "### 2. Gere 1000 números aleatórios e verifique a uniformidade e a correlação dos números gerados.\n"
      ],
      "metadata": {
        "id": "FEqeuh7aDeVy"
      }
    },
    {
      "cell_type": "code",
      "source": [
        "# Gerar mil amostras\n",
        "n = 1000\n",
        "sequencia = gat(3,5,n)\n",
        "\n",
        "# Uniformidade pelo histograma\n",
        "plt.hist(sequencia, bins=2, color='lightgreen', edgecolor='black')\n",
        "plt.title(\"Histograma de Amostras do Gerador de Tausworthe\")\n",
        "plt.xlabel(\"Valores\")\n",
        "plt.ylabel(\"Frequência\")\n",
        "plt.show()\n",
        "\n",
        "# correlação\n",
        "df = pd.DataFrame({'gat':sequencia})\n",
        "\n",
        "X = df['gat']\n",
        "Y = df['gat'].shift(-1)\n",
        "correlacao = X.corr(Y)\n",
        "\n",
        "resposta = f\"Para esses parâmetros a correlação é {correlacao:.4f}\"\n",
        "print(resposta)\n"
      ],
      "metadata": {
        "colab": {
          "base_uri": "https://localhost:8080/",
          "height": 0
        },
        "outputId": "e9e124dd-cd01-49a2-e273-7b21678028f8",
        "id": "bhC5VZxBDeVz"
      },
      "execution_count": 13,
      "outputs": [
        {
          "output_type": "display_data",
          "data": {
            "text/plain": [
              "<Figure size 640x480 with 1 Axes>"
            ],
            "image/png": "[encoded data removed]"
          },
          "metadata": {}
        },
        {
          "output_type": "stream",
          "name": "stdout",
          "text": [
            "Para esses parâmetros a correlação é -0.0321\n"
          ]
        }
      ]
    },
    {
      "cell_type": "markdown",
      "source": [
        " # Atividade 3: Implementar Testes de Aleatoriedade para Verificação\n",
        "\n",
        "\n",
        "\n"
      ],
      "metadata": {
        "id": "Ho-TQMVvKqeY"
      }
    },
    {
      "cell_type": "markdown",
      "source": [
        "## *Descrição:*"
      ],
      "metadata": {
        "id": "EvErKrZ711Rz"
      }
    },
    {
      "cell_type": "markdown",
      "source": [
        "*Verifique se os números gerados nos exercícios anteriores têm boas propriedades de aleatoriedade.*"
      ],
      "metadata": {
        "id": "g_tJSa0Tobh1"
      }
    },
    {
      "cell_type": "markdown",
      "source": [
        "## Tarefas:\n",
        "\n"
      ],
      "metadata": {
        "id": "7uBaC57KDMtx"
      }
    },
    {
      "cell_type": "markdown",
      "source": [
        "### 1. Implemente o teste de chi-quadrado $(\\chi^2)$ para verificar a uniformidade dos números.\n",
        "\n"
      ],
      "metadata": {
        "id": "brptesknK4CB"
      }
    },
    {
      "cell_type": "markdown",
      "source": [
        "O **teste de qui-quadrado** é utilizado para verificar se uma sequência de números gerados segue uma **distribuição uniforme**. Para números gerados de uma distribuição $ U(0, 1)$, esperamos que os valores gerados se distribuam de forma uniforme entre os intervalos de $[0, 1)$.\n",
        "\n",
        "Este teste compara a **frequência observada** dos números gerados em subintervalos da unidade $[0, 1)$ com as **frequências esperadas** caso os números fossem distribuídos uniformemente.\n",
        "A fórmula do teste de qui-quadrado é dada por:\n",
        "\n",
        "$$\n",
        "\\chi^2 = \\sum_{i=1}^{k} \\frac{(O_i - E_i)^2}{E_i}\n",
        "$$\n",
        "\n",
        "Em que:\n",
        "- $O_i $  é a **frequência observada** no intervalo $ i $,\n",
        "- $E_i $  é a **frequência esperada** no intervalo $i $,\n",
        "- $k $   é o número de intervalos que dividem $[0, 1)$.\n",
        "\n",
        "Para conseguirmos efetuar o teste $\\chi^2$ precisamos realizar os seguintes passos:\n",
        "\n",
        "1. **Dividir o intervalo** $[0, 1)$ em $ k $ subintervalos de tamanho igual.\n",
        "2. **Contar quantos números** caem em cada subintervalo.\n",
        "3. **Calcular a estatística**  $\\chi^2$ utilizando a fórmula fornecida.\n",
        "4. **Comparar a estatística** $\\chi^2$  com o valor crítico da distribuição qui-quadrado para o grau de liberdade $ k-1 $ e o nível de significância escolhido (5% neste caso).\n",
        "\n",
        "\n",
        "\n"
      ],
      "metadata": {
        "id": "A_H9URGgHl2C"
      }
    },
    {
      "cell_type": "markdown",
      "source": [
        "### Implementação:"
      ],
      "metadata": {
        "id": "nMTViI6baPqP"
      }
    },
    {
      "cell_type": "code",
      "execution_count": 14,
      "metadata": {
        "id": "PQDP0telMO3U"
      },
      "outputs": [],
      "source": [
        "# teste \\chi^2\n",
        "vetor = [np.random.uniform() for num in range(n)]\n",
        "\n",
        "def teste_chi_quadrado(vetor = np.array([]), k=10):\n",
        "    # Amostras Uniformes\n",
        "    amostras = vetor\n",
        "\n",
        "    # Divide o intervalo [0, 1) em k intervalos\n",
        "    intervalos = np.linspace(0, 1, k + 1) # divide de forma igualitária\n",
        "    observados = np.ones(k) # gera um vetor com k entradas todas iguais a 1\n",
        "\n",
        "    # Conta quantos números caem em cada intervalo\n",
        "    for amostra in amostras:\n",
        "      # print(amostra)\n",
        "      for num in range(k):\n",
        "          if intervalos[num] <= amostra < intervalos[num+1]:\n",
        "              observados[num] += 1\n",
        "              # print(observados[num])\n",
        "              break\n",
        "\n",
        "    # Frequência esperada em cada intervalo\n",
        "    esperado = n / k\n",
        "\n",
        "    # Calcular o valor do qui-quadrado\n",
        "    chi_quadrado = sum([(observado - esperado) ** 2 / esperado for observado in observados])\n",
        "\n",
        "    # return chi_quadrado\n",
        "    # Comparar com o valor crítico de qui-quadrado (grau de liberdade = k-1)\n",
        "    valor_critico = stats.chi2.ppf(0.95, k-1)  # Nível de significância de 5%\n",
        "\n",
        "    # Exibir resultados\n",
        "    print(f\"Estatística de chi-Quadrado: {chi_quadrado:.2f}\")\n",
        "    print(f\"Valor Crítico de chi-Quadrado: {valor_critico:.2f}\")\n",
        "\n",
        "    if chi_quadrado < valor_critico:\n",
        "        print(\"Os números seguem uma distribuição uniforme.\")\n",
        "    else:\n",
        "        print(\"Os números não seguem uma distribuição uniforme.\")\n",
        "\n",
        "\n"
      ]
    },
    {
      "cell_type": "markdown",
      "source": [
        "Uma vez implementado, vamos testar se os geradores anteriores fornecem uniformidade"
      ],
      "metadata": {
        "id": "4ikHCx2U9FRk"
      }
    },
    {
      "cell_type": "code",
      "source": [
        "# testando Gerador ACL\n",
        "a = \"Testando Uniformidade no gerador ACL\"\n",
        "print(a)\n",
        "\n",
        "amostras1 = np.array([acl3(5, 5, 1, 16,i) for i in range(1000)])\n",
        "teste_chi_quadrado(amostras1, 16)\n",
        "\n",
        "print(len(a)*\"-\")\n",
        "\n",
        "# Testando o Gerador de GAT\n",
        "b = \"Testando Uniformidade no gerador GAT\"\n",
        "print(b)\n",
        "\n",
        "amostras2 = gat(3,5,1000)\n",
        "teste_chi_quadrado(amostras2, 2)\n",
        "\n",
        "print(len(b)*\"-\")"
      ],
      "metadata": {
        "colab": {
          "base_uri": "https://localhost:8080/"
        },
        "id": "4if9Zc5I9EuE",
        "outputId": "004b568a-3682-4b7a-b2e2-f7d2e7a50f3f"
      },
      "execution_count": 15,
      "outputs": [
        {
          "output_type": "stream",
          "name": "stdout",
          "text": [
            "Testando Uniformidade no gerador ACL\n",
            "Estatística de chi-Quadrado: 0.35\n",
            "Valor Crítico de chi-Quadrado: 25.00\n",
            "Os números seguem uma distribuição uniforme.\n",
            "------------------------------------\n",
            "Testando Uniformidade no gerador GAT\n",
            "Estatística de chi-Quadrado: 498.39\n",
            "Valor Crítico de chi-Quadrado: 3.84\n",
            "Os números não seguem uma distribuição uniforme.\n",
            "------------------------------------\n"
          ]
        }
      ]
    },
    {
      "cell_type": "markdown",
      "source": [
        " ### 2. Implemente o teste de autocorrelação para verificar a correlação entre os números gerados."
      ],
      "metadata": {
        "id": "mecAc3gCVsmw"
      }
    },
    {
      "cell_type": "markdown",
      "source": [
        "\n",
        "\n",
        "A **autocorrelação** é uma medida estatística que avalia a relação entre os valores de uma série temporal com os mesmos valores em defasagens (ou lags). A ideia central é verificar se há uma dependência temporal entre os valores: ou seja, se um número em um ponto no tempo depende dos valores anteriores.\n",
        "\n",
        "Se os números gerados são **aleatórios**, a autocorrelação em defasagens diferentes de zero deve ser próxima de zero, o que indica que não há correlação entre os números da sequência.\n",
        "\n",
        "#### Fórmula da Autocorrelação\n",
        "\n",
        "A fórmula para calcular a autocorrelação $ \\rho_k $ para uma defasagem $ k $ é dada por:\n",
        "\n",
        "$$\n",
        "\\rho_k = \\frac{\\sum_{t=1}^{n-k} (X_t - \\overline{X})(X_{t+k} - \\overline{X})}{\\sum_{t=1}^{n} (X_t - \\overline{X})^2}\n",
        "$$\n",
        "Onde:\n",
        "- $ X_t $ é o valor da sequência no instante $ t $,\n",
        "- $ \\overline{X} $ é a média da sequência,\n",
        "- $ k $ é a defasagem,\n",
        "- $ n $ é o número de elementos na sequência.\n",
        "\n",
        "Para calcular a autocorrelação seguimos os seguintes passos:\n",
        "\n",
        "1. **Subtrair a média da sequência** de cada valor da sequência.\n",
        "2. **Multiplicar o valor de cada ponto da sequência** pela versão deslocada (deslocada por $ k $ passos).\n",
        "3. **Somar os produtos dos pontos deslocados**.\n",
        "4. **Dividir pela soma dos quadrados das diferenças** em relação à média (para normalizar o valor).\n",
        "\n",
        "Ela basicamente verifica o quanto um valor da sequência está relacionado com os valores anteriores.\n",
        "Se não houver dependência entre os valores, a autocorrelação deve ser zero.\n",
        "Caso contrário, se houver autocorrelação significativa, podemos concluir que a sequência tem alguma estrutura temporal ou padrão, indicando que os números não são aleatórios."
      ],
      "metadata": {
        "id": "ZiMm_-0DdH5w"
      }
    },
    {
      "cell_type": "markdown",
      "source": [
        "### Implementação"
      ],
      "metadata": {
        "id": "C-K37BQBaidI"
      }
    },
    {
      "cell_type": "code",
      "source": [
        "# Função para calcular a autocorrelação para uma defasagem k\n",
        "def autocor(sequencia, k = 1000):\n",
        "    n = len(sequencia)\n",
        "    media = np.array(sequencia).mean()  # média\n",
        "    soma_num = 0  # Numerador\n",
        "    soma_den = 0  # Denominador da fórmula\n",
        "\n",
        "    for t in range(n - k):  # Iterar até o final da sequência menos a defasagem k\n",
        "        soma_num += (sequencia[t] - media) * (sequencia[t + k] - media)\n",
        "        soma_den += (sequencia[t] - media) ** 2\n",
        "\n",
        "    return soma_num / soma_den  # Retorna a autocorrelação para a defasagem k\n",
        "\n",
        "# Testando com a uniforme\n",
        "N = 5000 # quantidade de amostras\n",
        "sequencia = [np.random.uniform() for i in range(N)]\n",
        "\n",
        "resposta = autocor(sequencia)\n",
        "print(f\"A autocorrelação é {resposta:.4f}\")\n",
        "\n",
        "# # Calcula autocor para defasagens de 1 a 30\n",
        "# lags = list(range(1, N))\n",
        "# autocor_val = [autocor(sequencia_aleatoria, lag) for lag in lags]\n",
        "\n",
        "# # Plotar os resultados\n",
        "# plt.figure(figsize=(10, 6))\n",
        "# plt.plot(lags, autocor_val, marker='o', linestyle='-', color='b')\n",
        "# plt.title('Autocorrelação para diferentes defasagens')\n",
        "# plt.xlabel('Defasagem (lag)')\n",
        "# plt.ylabel('Autocorrelação')\n",
        "# plt.axhline(y=0, color='r', linestyle='--')  # Linha horizontal em y=0\n",
        "# plt.grid(True)\n",
        "# plt.show()\n"
      ],
      "metadata": {
        "colab": {
          "base_uri": "https://localhost:8080/"
        },
        "id": "Dlosc_5TVvtx",
        "outputId": "12bb8122-c99f-4544-8891-5e8e0bf1076d"
      },
      "execution_count": 16,
      "outputs": [
        {
          "output_type": "stream",
          "name": "stdout",
          "text": [
            "A autocorrelação é -0.0312\n"
          ]
        }
      ]
    },
    {
      "cell_type": "code",
      "source": [
        "# testando Gerador ACL\n",
        "N = 450 # quantidade de amostras\n",
        "\n",
        "a = \"Testando Uniformidade no gerador ACL\"\n",
        "print(a)\n",
        "\n",
        "amostras1 = np.array([acl3(5, 5, 1, 16,i) for i in range(500)])\n",
        "print(autocor(amostras1,N))\n",
        "\n",
        "print(len(a)*\"-\")\n",
        "\n",
        "# Testando o Gerador de GAT\n",
        "b = \"Testando Uniformidade no gerador GAT\"\n",
        "print(b)\n",
        "\n",
        "amostras2 = gat(3,5,500)\n",
        "print(autocor(amostras2,N))\n",
        "print(len(b)*\"-\")"
      ],
      "metadata": {
        "colab": {
          "base_uri": "https://localhost:8080/"
        },
        "id": "yu47XbePDh3E",
        "outputId": "28bddc6f-32f7-479a-a5f5-67712227d43e"
      },
      "execution_count": 17,
      "outputs": [
        {
          "output_type": "stream",
          "name": "stdout",
          "text": [
            "Testando Uniformidade no gerador ACL\n",
            "-0.01988527632792587\n",
            "------------------------------------\n",
            "Testando Uniformidade no gerador GAT\n",
            "0.0007754986261377942\n",
            "------------------------------------\n"
          ]
        }
      ]
    },
    {
      "cell_type": "markdown",
      "source": [
        "# Atividade 4: Gerar Variável Uniforme no Intervalo de 10 a 50\n",
        "\n",
        "\n",
        "\n"
      ],
      "metadata": {
        "id": "kkYKY7ogiqkn"
      }
    },
    {
      "cell_type": "markdown",
      "source": [
        "## *Descrição*\n",
        "\n",
        "\n"
      ],
      "metadata": {
        "id": "QA2TUnYHjF0g"
      }
    },
    {
      "cell_type": "markdown",
      "source": [
        "*Nesta atividade, você implementará uma variável aleatória uniforme no intervalo de **10 a 50**, utilizando a transformação de uma distribuição uniforme padrão no intervalo de **0 a 1**. Além disso, você realizará algumas análises básicas dessa amostra gerada, como calcular a **média**, a **mediana** e o **desvio padrão**, e visualizar a distribuição dos valores por meio de um **histograma**.*"
      ],
      "metadata": {
        "id": "fHZJqViCoUiK"
      }
    },
    {
      "cell_type": "markdown",
      "source": [
        "## 1. Transformação Linear de uma Distribuição Uniforme\n"
      ],
      "metadata": {
        "id": "ZdBm6pqajKVZ"
      }
    },
    {
      "cell_type": "markdown",
      "source": [
        "A distribuição uniforme padrão gera valores no intervalo $[0, 1]$.\n",
        "Para mapear esses valores para o intervalo desejado de 10 a 50, pode-se utilizar uma transformação linear:\n",
        "\n",
        "$$\n",
        "X = a \\cdot U + b\n",
        "$$\n",
        "\n",
        "Em que:\n",
        "- $ X $ é a variável aleatória no intervalo de 10 a 50,\n",
        "- $ U $ é a variável aleatória no intervalo de 0 a 1,\n",
        "- $ a $ e $ b $ são constantes que determinam o intervalo de saída.\n",
        "\n",
        "Para mapear o intervalo $[0, 1]$ para o intervalo $[10, 50]$, temos:\n",
        "- $ a = 50 - 10 = 40 $ (amplitude do intervalo desejado),\n",
        "- $ b = 10 $ (limite inferior do intervalo desejado).\n",
        "\n",
        "Portanto, a fórmula fica:\n",
        "\n",
        "$$\n",
        "X = 40 \\cdot U + 10\n",
        "$$\n",
        "\n",
        "Essa fórmula transforma os valores da distribuição uniforme $ U $ para o intervalo $[10, 50]$.\n"
      ],
      "metadata": {
        "id": "4GBOB10Pk_n-"
      }
    },
    {
      "cell_type": "code",
      "source": [
        "n = 5000\n",
        "U = np.random.uniform(0, 1, n)\n",
        "X = 40 * U + 10\n",
        "print(X[:10])"
      ],
      "metadata": {
        "colab": {
          "base_uri": "https://localhost:8080/"
        },
        "id": "oVa8mdrMlw_L",
        "outputId": "2bf3ff69-315e-46e3-dc2c-135969137b33"
      },
      "execution_count": 18,
      "outputs": [
        {
          "output_type": "stream",
          "name": "stdout",
          "text": [
            "[31.81478801 43.16243364 31.32238663 16.35426643 44.62365097 25.81936194\n",
            " 11.76944141 41.41773616 10.82581625 28.62998204]\n"
          ]
        }
      ]
    },
    {
      "cell_type": "markdown",
      "source": [
        "## 2. Cálculo da Média, Mediana e Desvio Padrão\n",
        "\n"
      ],
      "metadata": {
        "id": "a2GRti9Yj-rm"
      }
    },
    {
      "cell_type": "markdown",
      "source": [
        "Após gerar a amostra de valores uniformemente distribuídos entre **10 e 50**, podemos calcular:\n",
        "- A **média** da amostra, que é a soma dos valores dividida pelo número de elementos.\n",
        "- A **mediana**, que é o valor central da amostra quando os dados são ordenados.\n",
        "- O **desvio padrão**, que mede a dispersão dos valores em relação à média"
      ],
      "metadata": {
        "id": "PsPsXnfUnqWS"
      }
    },
    {
      "cell_type": "code",
      "source": [
        "media = np.mean(X)\n",
        "mediana = np.median(X)\n",
        "desvio_padrao = np.std(X)\n",
        "resposta = f\"Média = {media:.4f}, mediana = {mediana:.4f} e desvio_padrao = {desvio_padrao:.4f}\"\n",
        "print(resposta)"
      ],
      "metadata": {
        "colab": {
          "base_uri": "https://localhost:8080/"
        },
        "id": "rSybnwP8mIxv",
        "outputId": "3b146894-9c31-4b3c-faf6-f682836a5608"
      },
      "execution_count": 19,
      "outputs": [
        {
          "output_type": "stream",
          "name": "stdout",
          "text": [
            "Média = 30.1643, mediana = 30.1828 e desvio_padrao = 11.5205\n"
          ]
        }
      ]
    },
    {
      "cell_type": "markdown",
      "source": [
        "## 3. Histograma para Visualização\n",
        "\n"
      ],
      "metadata": {
        "id": "DGNq4Ex0kEp0"
      }
    },
    {
      "cell_type": "markdown",
      "source": [
        "Um **histograma** será utilizado para visualizar a distribuição dos valores gerados. O histograma nos ajudará a verificar se os valores estão distribuídos uniformemente no intervalo de 10 a 50, o que é esperado de uma variável uniforme."
      ],
      "metadata": {
        "id": "uU_YOeYJnuL3"
      }
    },
    {
      "cell_type": "code",
      "source": [
        "plt.hist(X, bins=30, edgecolor='black',color='lightcoral')\n",
        "plt.title('Histograma da Variável Uniforme no Intervalo de 10 a 50')\n",
        "plt.xlabel('Valores')\n",
        "plt.ylabel('Frequência')\n",
        "# plt.grid(True)\n",
        "plt.show()"
      ],
      "metadata": {
        "colab": {
          "base_uri": "https://localhost:8080/",
          "height": 0
        },
        "id": "byGwCEs4i0es",
        "outputId": "7eac8192-1e09-4e6a-970f-ac73e7c857dd"
      },
      "execution_count": 20,
      "outputs": [
        {
          "output_type": "display_data",
          "data": {
            "text/plain": [
              "<Figure size 640x480 with 1 Axes>"
            ],
            "image/png": "[encoded data removed]"
          },
          "metadata": {}
        }
      ]
    },
    {
      "cell_type": "markdown",
      "source": [
        " # Atividade 5: Implementar um gerador de variáveis aleatórias Bernoulli\n",
        "\n",
        "\n",
        "\n",
        "\n",
        "    \n",
        "    \n"
      ],
      "metadata": {
        "id": "G0dolRzKA_Y6"
      }
    },
    {
      "cell_type": "markdown",
      "source": [
        " #### *Descrição: Use uma transformação de variáveis para gerar uma sequencia de Bernoulli a partir de uma sequencia de variáveis uniforme unitárias.*"
      ],
      "metadata": {
        "id": "TfOpfgcur_Az"
      }
    },
    {
      "cell_type": "markdown",
      "source": [
        "## Tarefas:"
      ],
      "metadata": {
        "id": "6QtZtzYVr8Zj"
      }
    },
    {
      "cell_type": "markdown",
      "source": [
        "#### 1. Implemente inicialmente a Variável Aleatória Bernoulli com probabilidade de sucesso $ p = \\frac{1}{2} $ da seguinte forma $$\n",
        "X_i\n",
        "=\n",
        "I_{(U_i ≤ p)},\n",
        "$$\n",
        "com $\\ U_i \\sim U(0,1),i = 1,...,n.$"
      ],
      "metadata": {
        "id": "JgdtKqdtDiDy"
      }
    },
    {
      "cell_type": "markdown",
      "source": [
        "**Resposta**\n",
        "Basicamente, precisamos utilizar um loop for baseado nas amostras da uniforme.\n",
        "Se o valor da amostra for menor ou igual a $p$, então $X_i = 1$. Caso contrário, $X_i = 0$."
      ],
      "metadata": {
        "id": "GR3LnprlCCZk"
      }
    },
    {
      "cell_type": "code",
      "execution_count": 21,
      "metadata": {
        "colab": {
          "base_uri": "https://localhost:8080/"
        },
        "id": "GsK0nnpV6ED1",
        "outputId": "92cb96ce-2d69-4f34-8d17-5cd9967e5f99"
      },
      "outputs": [
        {
          "output_type": "stream",
          "name": "stdout",
          "text": [
            "[0 0 1 1 1 1 0 1 0 0 0 0 1 0 0 1 1 1 1 0 0 1 0 1 1 0 1 0 0 0 1 1 1 1 1 1 1\n",
            " 0 1 0 1 1 0 0 0 0 0 1 1 1 0 0 0 0 0 0 0 0 0 0 0 0 0 1 1 1 0 0 0 1 1 1 1 0\n",
            " 1 0 0 0 0 0 0 1 1 0 0 0 0 0 1 1 1 1 0 1 1 1 0 0 1 0 0 0 1 1 0 0 1 0 1 0 1\n",
            " 0 0 0 1 1 1 0 0 1 0 0 0 0 1 0 1 0 0 0 0 1 1 1 1 1 1 0 1 1 1 1 1 1 0 1 0 0\n",
            " 0 0 0 1 1 0 0 0 0 0 0 0 1 1 0 1 0 0 1 0 0 1 0 1 1 1 1 1 1 1 0 0 1 1 0 0 0\n",
            " 1 1 1 0 0 0 1 0 0 1 1 1 0 1 1 0 0 0 0 1 0 1 0 1 0 0 1 1 0 0 1 0 1 1 1 1 0\n",
            " 1 1 0 0 1 1 0 0 0 1 1 1 1 1 1 0 0 1 0 0 0 0 1 0 0 1 1 0 0 0 1 1 0 0 1 0 0\n",
            " 1 1 0 1 1 1 1 1 0 1 1 1 0 0 0 1 0 0 0 1 0 0 0 1 0 1 0 0 0 1 0 1 0 0 1 0 1\n",
            " 0 0 0 0 0 1 0 1 1 0 0 0 0 0 1 1 0 0 1 0 1 1 1 1 0 0 1 1 1 1 0 0 1 1 0 0 0\n",
            " 0 1 1 0 1 1 0 0 0 1 1 0 1 1 1 1 0 1 1 0 1 0 1 1 1 0 0 0 1 0 1 1 1 0 0 0 1\n",
            " 0 1 0 0 0 0 1 1 1 0 0 1 0 1 0 0 1 0 1 0 0 1 1 0 0 1 1 0 0 0 1 1 0 0 0 1 1\n",
            " 0 0 1 0 1 0 0 0 0 0 1 0 1 1 1 1 1 0 1 1 1 0 1 1 1 1 1 0 0 0 1 1 1 0 1 1 0\n",
            " 0 0 0 1 0 0 1 0 1 1 0 1 1 0 1 1 1 1 1 1 1 0 1 0 0 1 0 0 1 1 0 1 0 1 1 0 0\n",
            " 0 0 1 1 1 1 0 1 1 0 1 1 1 1 0 1 1 0 1 0 1 1 0 0 0 0 0 1 0 0 0 0 0 0 0 0 1\n",
            " 0 1 1 0 1 1 0 0 1 1 1 0 0 1 1 1 1 0 0 1 1 0 0 0 0 0 0 1 0 0 1 1 1 0 0 0 0\n",
            " 0 1 1 0 1 0 1 0 1 1 1 1 1 1 0 1 1 0 1 1 1 0 0 0 1 0 0 1 1 1 1 1 0 0 1 1 1\n",
            " 0 1 0 1 0 0 0 0 0 0 1 1 1 0 0 1 1 1 1 0 1 1 1 1 1 0 0 0 0 0 1 1 1 1 1 1 1\n",
            " 1 1 0 1 0 1 1 1 0 0 1 0 0 1 0 1 0 1 0 1 1 0 0 0 1 0 0 0 1 1 1 0 0 0 1 0 1\n",
            " 0 0 0 1 1 0 0 1 1 0 1 1 0 1 1 0 0 1 0 0 0 1 0 1 0 1 0 1 0 1 0 0 0 1 0 0 0\n",
            " 0 0 0 1 1 1 0 0 0 1 1 0 1 0 1 1 0 0 0 0 0 0 0 0 0 1 1 0 1 1 1 1 0 1 1 0 1\n",
            " 0 0 0 1 0 0 0 0 0 0 1 1 1 0 0 0 1 1 0 0 1 0 1 1 0 0 1 0 1 0 0 1 0 1 1 0 0\n",
            " 0 0 0 1 0 1 1 0 1 1 1 1 1 1 1 1 0 1 0 1 0 0 1 0 1 1 1 1 1 0 0 1 1 1 1 1 0\n",
            " 0 0 0 1 1 1 0 1 1 1 0 1 0 1 1 0 0 0 1 1 0 0 0 1 0 0 1 0 0 0 0 1 0 0 1 1 0\n",
            " 1 0 1 0 1 1 0 1 0 0 1 0 0 0 0 1 0 1 0 0 0 0 0 0 1 0 0 0 1 0 1 1 0 0 1 0 1\n",
            " 0 1 0 1 0 1 1 1 0 1 1 0 1 0 1 0 1 0 0 1 1 0 0 1 1 1 1 0 0 0 1 1 1 0 0 1 1\n",
            " 0 1 0 1 1 1 0 0 0 0 0 0 0 1 1 0 1 0 1 1 0 0 0 1 0 0 0 1 0 1 1 1 0 1 0 0 0\n",
            " 1 1 0 1 0 1 1 0 1 1 1 0 1 0 0 1 1 0 1 0 1 0 0 0 1 1 0 0 0 1 1 0 0 0 1 0 1\n",
            " 1]\n"
          ]
        }
      ],
      "source": [
        "import numpy as np\n",
        "\n",
        "# Função para gerar variáveis de Bernoulli com p = 1/2\n",
        "def gerar_bernoulli(n, p = 0.5):\n",
        "    sequencia = [1 if np.random.uniform() <= p else 0 for i in range(n)]\n",
        "    return np.array(sequencia)\n",
        "\n",
        "# Teste\n",
        "n = 1000  # amostras\n",
        "sequencia = gerar_bernoulli(n)\n",
        "print(sequencia)"
      ]
    },
    {
      "cell_type": "markdown",
      "source": [
        "#### 2. Implemente o teste de runs (ou teste de sequências) para verificar a independência dos números.\n",
        "\n"
      ],
      "metadata": {
        "id": "IXBXE5isDTHq"
      }
    },
    {
      "cell_type": "markdown",
      "source": [
        "O teste de runs verifica se há independência nas sequências de dados gerados. Ele é baseado na contagem de \"runs\", ou seja, sequências consecutivas de valores iguais. Para o caso de Bernoulli, podemos contar as transições de 0 para 1 ou de 1 para 0 e verificar se o número de runs está dentro de uma faixa esperada."
      ],
      "metadata": {
        "id": "JZU7fG-fD1GF"
      }
    },
    {
      "cell_type": "code",
      "source": [
        "def teste_runs(sequencia):\n",
        "    runs = 1  # Começamos com 1 run\n",
        "    for i in range(1, len(sequencia)):\n",
        "        if sequencia[i] != sequencia[i - 1]:  # Se mudar de 0 para 1 ou de 1 para 0\n",
        "            runs += 1\n",
        "    return runs\n",
        "\n",
        "# Teste de Runs na sequência gerada\n",
        "runs = teste_runs(sequencia)\n",
        "print(f\"Total de runs (sequências): {runs}\")\n"
      ],
      "metadata": {
        "id": "U4d6Zjur6Hrg",
        "colab": {
          "base_uri": "https://localhost:8080/"
        },
        "outputId": "18d2786a-f423-4ce2-80dd-8498473e4163"
      },
      "execution_count": 22,
      "outputs": [
        {
          "output_type": "stream",
          "name": "stdout",
          "text": [
            "Total de runs (sequências): 480\n"
          ]
        }
      ]
    },
    {
      "cell_type": "markdown",
      "source": [
        "####  3. Verifique a média e a variância dos números gerados."
      ],
      "metadata": {
        "id": "Q45JtrmREDv3"
      }
    },
    {
      "cell_type": "markdown",
      "source": [
        "Sabemos que a média e a variância da Variável Aleatória Bernoulli é $\\mu = p$ e $\\sigma^2 = p(1-p)$. Para $p = \\dfrac{1}{2}$, esperamos $\\mu = 0,5$ e $\\sigma^2 = 0,25$."
      ],
      "metadata": {
        "id": "2ibgbA-pELWJ"
      }
    },
    {
      "cell_type": "code",
      "source": [
        "n = 10 ** 5\n",
        "\n",
        "media = f\" a média é {gerar_bernoulli(n).mean():.4f}\"\n",
        "variancia = f\" a variância é {gerar_bernoulli(n).var():.4f}\"\n",
        "print(media, variancia)\n"
      ],
      "metadata": {
        "colab": {
          "base_uri": "https://localhost:8080/"
        },
        "id": "iHP-B4HeAfpt",
        "outputId": "2fb1a0d1-0b13-4ff2-8a5c-040d71c49566"
      },
      "execution_count": 23,
      "outputs": [
        {
          "output_type": "stream",
          "name": "stdout",
          "text": [
            " a média é 0.4999  a variância é 0.2500\n"
          ]
        }
      ]
    },
    {
      "cell_type": "markdown",
      "source": [
        "# Atividade 6: Implementar um gerador de variáveis aleatórias Binomial\n"
      ],
      "metadata": {
        "id": "lF352rrHsPDS"
      }
    },
    {
      "cell_type": "markdown",
      "source": [
        "## *Descrição:*"
      ],
      "metadata": {
        "id": "_DgRut_CsSEx"
      }
    },
    {
      "cell_type": "markdown",
      "source": [
        " *Utilize o fato de a soma de n de distribuições Bernoulli $(p)$, estocasticamente independentes, é uma variável aleatória Binomial de parâmetros com média $np$ e variância $n p (1 - p)$.*\n"
      ],
      "metadata": {
        "id": "prCqZdi2s5MF"
      }
    },
    {
      "cell_type": "markdown",
      "source": [
        "## Tarefas:\n"
      ],
      "metadata": {
        "id": "1v8PEEnNs1lu"
      }
    },
    {
      "cell_type": "markdown",
      "source": [
        "### 1. Implemente uma distribuição Binomial$(n, p )$.\n",
        "\n"
      ],
      "metadata": {
        "id": "q5NYEKqys-N9"
      }
    },
    {
      "cell_type": "code",
      "source": [
        "# Gerando uma Binomial\n",
        "def binomial(n, p, num_simulacoes):\n",
        "    resultados = list()\n",
        "    # Para cada simulação, realiza n tentativas de Bernoulli\n",
        "    for i in range(num_simulacoes):\n",
        "        # Gera n valores de Bernoulli\n",
        "        sucessos = np.random.rand(n) < p  # np.random.rand(n) gera n números aleatórios entre 0 e 1\n",
        "        # Contamos o número de sucessos na tentavia\n",
        "        resultados.append(np.sum(sucessos))\n",
        "\n",
        "    return np.array(resultados)\n"
      ],
      "metadata": {
        "id": "0VTrTe1JJb6Z"
      },
      "execution_count": 24,
      "outputs": []
    },
    {
      "cell_type": "markdown",
      "source": [
        "### 2. Implemente uma função que gere uma amostra de tamanho $N$ de uma distribuição Binomial$(n = 2, p = 3/4)$.\n"
      ],
      "metadata": {
        "id": "_508KHxMtG2U"
      }
    },
    {
      "cell_type": "code",
      "source": [
        "# Parâmetros\n",
        "n = 2\n",
        "p = 3/4\n",
        "num_simulacoes = 10000\n",
        "\n",
        "resultados = binomial(n, p, num_simulacoes)\n",
        "print(resultados)\n",
        "\n",
        "# Plotando o histograma\n",
        "plt.hist(resultados, bins=np.arange(-0.5, n+1.5, 1), color='peru', edgecolor='black')\n",
        "plt.title('Distribuição Binomial (n=2, p=3/4)')\n",
        "plt.xlabel('Número de sucessos')\n",
        "plt.ylabel('Probabilidade')\n",
        "plt.xticks([0, 1, 2])\n",
        "plt.show()"
      ],
      "metadata": {
        "colab": {
          "base_uri": "https://localhost:8080/",
          "height": 0
        },
        "id": "XyYLGrb9KysC",
        "outputId": "dafbb37f-c97c-494c-f2ba-59d1a9745343"
      },
      "execution_count": 25,
      "outputs": [
        {
          "output_type": "stream",
          "name": "stdout",
          "text": [
            "[2 1 1 ... 2 2 1]\n"
          ]
        },
        {
          "output_type": "display_data",
          "data": {
            "text/plain": [
              "<Figure size 640x480 with 1 Axes>"
            ],
            "image/png": "[encoded data removed]"
          },
          "metadata": {}
        }
      ]
    },
    {
      "cell_type": "markdown",
      "source": [
        "### 3. Verifique a média e a variância dos números gerados\n"
      ],
      "metadata": {
        "id": "YHUAvy54tNmE"
      }
    },
    {
      "cell_type": "markdown",
      "source": [
        "Teoricamente devemos ter a média = $np$ e a variância $np(1-p)$"
      ],
      "metadata": {
        "id": "A0Wd6IJiK0uT"
      }
    },
    {
      "cell_type": "code",
      "source": [
        "# Parametros\n",
        "n = 2\n",
        "p = 3/4\n",
        "num_simulacoes = 10000\n",
        "resultados = binomial(n, p, num_simulacoes)\n",
        "\n",
        "# Resultados teoricos\n",
        "media_esperada = n * p\n",
        "variancia_esperada = n * p * (1 - p)\n",
        "\n",
        "# Resultados simulados\n",
        "media_calculada = resultados.mean()\n",
        "variancia_calculada = resultados.var()\n",
        "\n",
        "\n",
        "resposta = f\"\"\"\n",
        "Média Esperada: {media_esperada:.4f}\n",
        "Média Calculada: {media_calculada:.4f}\n",
        "Variância Esperada: {variancia_esperada:.4f}\n",
        "Variância Calculada: {variancia_calculada:.4f}\n",
        "\"\"\"\n",
        "print(resposta)\n",
        "\n"
      ],
      "metadata": {
        "colab": {
          "base_uri": "https://localhost:8080/"
        },
        "id": "300ciNyusRgB",
        "outputId": "998be0f8-45f8-4264-fd90-0f5623998088"
      },
      "execution_count": 26,
      "outputs": [
        {
          "output_type": "stream",
          "name": "stdout",
          "text": [
            "\n",
            "Média Esperada: 1.5000\n",
            "Média Calculada: 1.5095\n",
            "Variância Esperada: 0.3750\n",
            "Variância Calculada: 0.3749\n",
            "\n"
          ]
        }
      ]
    },
    {
      "cell_type": "code",
      "source": [],
      "metadata": {
        "id": "JHBviIDjLdSy"
      },
      "execution_count": 26,
      "outputs": []
    },
    {
      "cell_type": "markdown",
      "source": [
        "# Atividade 7: Simular um Processo de Controle de Qualidade até a Primeira Falha"
      ],
      "metadata": {
        "id": "Gt7MNHLXL8hQ"
      }
    },
    {
      "cell_type": "markdown",
      "source": [
        "## *Descrição:*"
      ],
      "metadata": {
        "id": "XtN7JEDfMrlI"
      }
    },
    {
      "cell_type": "markdown",
      "source": [
        "*Em um processo de controle de qualidade, podemos simular a verificação de produtos até encontrar a primeira falha, usando variáveis uniformes para modelar a probabilidade de falha.*"
      ],
      "metadata": {
        "id": "vGo1kTdEMuap"
      }
    },
    {
      "cell_type": "markdown",
      "source": [
        "## Tarefas:"
      ],
      "metadata": {
        "id": "KmDsvqf8M0U4"
      }
    },
    {
      "cell_type": "markdown",
      "source": [
        "1. Implemente um loop que simule um processo de verificação de produtos até encontrar a primeira falha.\n",
        "2. Considere a probabilidade de falha como p = 0, 05.\n",
        "3. Registre o número de produtos verificados antes da primeira falha.\n",
        "4. Repita a simulação 1000 vezes e calcule a média do número de produtos verificados até a primeira falha."
      ],
      "metadata": {
        "id": "queoBAyOM1cb"
      }
    },
    {
      "cell_type": "markdown",
      "source": [
        "Basicamante, o que queremos fazer é implementar a distribuição geométrica que é dada por\n",
        "$$\n",
        "P(X = x) = p(1-p)^{j-1}, j \\in \\mathbb{N}\n",
        "$$\n"
      ],
      "metadata": {
        "id": "PbKkN4DnM6Uq"
      }
    },
    {
      "cell_type": "markdown",
      "source": [
        "## Implementação"
      ],
      "metadata": {
        "id": "14nL2Oa-OTEO"
      }
    },
    {
      "cell_type": "code",
      "source": [
        "def geometrica(p, num_simulacoes):\n",
        "    resultados = []\n",
        "\n",
        "    for i in range(num_simulacoes):\n",
        "        sucessos = 0\n",
        "        while True:\n",
        "            sucessos += 1\n",
        "            if np.random.rand() < p:\n",
        "                break  # Falha encontrada, termina a simulação\n",
        "        resultados.append(sucessos)\n",
        "        resposta = f\"\"\"\n",
        "        A quantidade de produtos verificados até a primeira falha = {sucessos}\n",
        "        A média esperada é de {1 / p}\n",
        "        A média calculada foi de {np.mean(resultados)}\n",
        "        \"\"\"\n",
        "    return resposta\n",
        "\n",
        "\n",
        "\n",
        "# Parâmetros\n",
        "p = 0.05  # probabilidade de falha\n",
        "num_simulacoes = 1000  # número de simulações\n",
        "\n",
        "# Realizando a simulação\n",
        "teste = geometrica(p, num_simulacoes)\n",
        "print(teste)\n"
      ],
      "metadata": {
        "colab": {
          "base_uri": "https://localhost:8080/"
        },
        "id": "cte1Ik9sL967",
        "outputId": "cf56fdc2-6135-4edb-b11b-66c0eb75e9d0"
      },
      "execution_count": 27,
      "outputs": [
        {
          "output_type": "stream",
          "name": "stdout",
          "text": [
            "\n",
            "        A quantidade de produtos verificados até a primeira falha = 7\n",
            "        A média esperada é de 20.0\n",
            "        A média calculada foi de 20.489\n",
            "        \n"
          ]
        }
      ]
    }
  ]
}